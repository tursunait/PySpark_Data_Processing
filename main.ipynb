{
 "cells": [
  {
   "cell_type": "code",
   "execution_count": null,
   "metadata": {},
   "outputs": [],
   "source": [
    "import os\n",
    "\n",
    "os.environ[\"PYSPARK_PYTHON\"] = \"python3\"  # or specify the Python path if needed"
   ]
  },
  {
   "cell_type": "code",
   "execution_count": 10,
   "metadata": {},
   "outputs": [
    {
     "name": "stdout",
     "output_type": "stream",
     "text": [
      "+-------------+\n",
      "|     greeting|\n",
      "+-------------+\n",
      "|Hello, Spark!|\n",
      "+-------------+\n",
      "\n"
     ]
    }
   ],
   "source": [
    "from pyspark.sql import SparkSession\n",
    "\n",
    "spark = SparkSession.builder.master(\"local[*]\").appName(\"TestApp\").getOrCreate()\n",
    "spark.sql(\"SELECT 'Hello, Spark!' AS greeting\").show()"
   ]
  },
  {
   "cell_type": "code",
   "execution_count": null,
   "metadata": {},
   "outputs": [
    {
     "name": "stdout",
     "output_type": "stream",
     "text": [
      "+----------+---+------+-------+------+--------------+--------------+-----------------+-------------+------------+-----------------+\n",
      "|CustomerID|Age|Gender|Country|Income|ProductQuality|ServiceQuality|PurchaseFrequency|FeedbackScore|LoyaltyLevel|SatisfactionScore|\n",
      "+----------+---+------+-------+------+--------------+--------------+-----------------+-------------+------------+-----------------+\n",
      "|         1| 56|  Male|     UK| 83094|             5|             8|                5|          Low|      Bronze|            100.0|\n",
      "|         2| 69|  Male|     UK| 86860|            10|             2|                8|       Medium|        Gold|            100.0|\n",
      "|         3| 46|Female|    USA| 60173|             8|            10|               18|       Medium|      Silver|            100.0|\n",
      "|         4| 32|Female|     UK| 73884|             7|            10|               16|          Low|        Gold|            100.0|\n",
      "|         5| 60|  Male|     UK| 97546|             6|             4|               13|          Low|      Bronze|             82.0|\n",
      "|         6| 25|  Male| France| 49364|             5|             7|               19|         High|      Silver|            80.71|\n",
      "|         7| 38|Female|Germany| 39716|            10|             6|               11|         High|      Silver|            100.0|\n",
      "|         8| 56|Female|Germany| 45305|            10|            10|               10|       Medium|        Gold|            100.0|\n",
      "|         9| 36|  Male| France| 98001|            10|             2|               12|         High|      Bronze|            100.0|\n",
      "|        10| 40|Female|     UK| 85307|             6|             4|               20|         High|        Gold|            86.48|\n",
      "|        11| 28|Female| Canada| 46732|             9|             3|                3|         High|        Gold|             94.6|\n",
      "|        12| 28|Female| France| 38742|             8|             6|               13|       Medium|      Silver|            81.85|\n",
      "|        13| 41|  Male|Germany| 30028|             8|             6|               20|       Medium|      Bronze|            95.99|\n",
      "|        14| 53|Female|    USA| 58353|             6|             8|               17|       Medium|      Bronze|            100.0|\n",
      "|        15| 57|Female|Germany| 75657|             1|             8|               15|       Medium|      Silver|            100.0|\n",
      "|        16| 41|Female| Canada| 59164|             1|             5|               10|       Medium|      Silver|            52.34|\n",
      "|        17| 20|Female|Germany| 73887|             5|             4|                7|       Medium|      Silver|            73.48|\n",
      "|        18| 39|Female| France| 63522|             8|             3|                8|         High|        Gold|            86.31|\n",
      "|        19| 19|  Male|    USA| 88593|             5|             9|                8|         High|      Bronze|            100.0|\n",
      "|        20| 41|Female|Germany| 37901|             7|             5|               17|          Low|        Gold|            85.16|\n",
      "+----------+---+------+-------+------+--------------+--------------+-----------------+-------------+------------+-----------------+\n",
      "only showing top 20 rows\n",
      "\n"
     ]
    }
   ],
   "source": [
    "# Load the CSV file into a DataFrame\n",
    "df = (\n",
    "    spark.read.format(\"csv\")\n",
    "    .option(\"header\", \"true\")\n",
    "    .option(\"inferSchema\", \"true\")\n",
    "    .load(\n",
    "        \"/Users/tusunaiturumbekova/PySpark_Data_Processing/data/customer_feedback_satisfaction.csv\"\n",
    "    )\n",
    ")\n",
    "\n",
    "# Show the first few rows of the DataFrame\n",
    "df.show()"
   ]
  }
 ],
 "metadata": {
  "kernelspec": {
   "display_name": "Python 3",
   "language": "python",
   "name": "python3"
  },
  "language_info": {
   "codemirror_mode": {
    "name": "ipython",
    "version": 3
   },
   "file_extension": ".py",
   "mimetype": "text/x-python",
   "name": "python",
   "nbconvert_exporter": "python",
   "pygments_lexer": "ipython3",
   "version": "3.12.6"
  }
 },
 "nbformat": 4,
 "nbformat_minor": 2
}
